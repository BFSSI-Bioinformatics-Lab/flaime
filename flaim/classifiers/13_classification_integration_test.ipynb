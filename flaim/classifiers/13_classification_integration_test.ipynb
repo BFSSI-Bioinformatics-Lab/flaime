{
 "cells": [
  {
   "cell_type": "code",
   "execution_count": 20,
   "metadata": {},
   "outputs": [
    {
     "name": "stdout",
     "output_type": "stream",
     "text": [
      "The autoreload extension is already loaded. To reload it, use:\n",
      "  %reload_ext autoreload\n"
     ]
    }
   ],
   "source": [
    "%load_ext autoreload\n",
    "%autoreload 2"
   ]
  },
  {
   "cell_type": "code",
   "execution_count": 28,
   "metadata": {},
   "outputs": [],
   "source": [
    "import sys\n",
    "sys.path.append(\"/home/forest/PycharmProjects/flaim\")\n",
    "\n",
    "import pandas as pd\n",
    "\n",
    "from category_prediction import *\n",
    "from category_preprocessing import *"
   ]
  },
  {
   "cell_type": "code",
   "execution_count": 24,
   "metadata": {},
   "outputs": [],
   "source": [
    "flip = FLIP(path='data/FLIPExport1759_2017_training_set2.xlsx')"
   ]
  },
  {
   "cell_type": "code",
   "execution_count": 25,
   "metadata": {
    "scrolled": true
   },
   "outputs": [],
   "source": [
    "scrape = FLAIME()\n",
    "scrape.get_sample_data()"
   ]
  },
  {
   "cell_type": "code",
   "execution_count": 26,
   "metadata": {},
   "outputs": [],
   "source": [
    "predictor = CategoryPredictor()\n",
    "predictor.train(flip)"
   ]
  },
  {
   "cell_type": "code",
   "execution_count": null,
   "metadata": {},
   "outputs": [],
   "source": [
    "preds = predictor.predict(scrape)\n",
    "pd.concat([scrape.names, preds], axis=1)"
   ]
  },
  {
   "cell_type": "code",
   "execution_count": 27,
   "metadata": {},
   "outputs": [
    {
     "data": {
      "text/plain": [
       "array([[3.90745220e-11, 4.76313918e-05, 1.53668788e-04, ...,\n",
       "        6.58996649e-07, 1.59752351e-06, 9.95679808e-01],\n",
       "       [2.54253269e-10, 8.60667305e-05, 6.28701506e-05, ...,\n",
       "        1.63787415e-05, 2.03644536e-05, 4.78046560e-04],\n",
       "       [4.82371420e-09, 4.66409154e-01, 8.71258609e-03, ...,\n",
       "        4.45098186e-06, 9.02068764e-02, 4.97840963e-04],\n",
       "       ...,\n",
       "       [3.45333542e-11, 1.67811750e-05, 1.03884086e-04, ...,\n",
       "        1.86599443e-05, 4.88530081e-05, 5.58544017e-04],\n",
       "       [5.30185862e-04, 5.98969628e-05, 4.69480842e-02, ...,\n",
       "        5.90775980e-09, 7.53060794e-04, 1.53841745e-03],\n",
       "       [6.04545865e-12, 6.99051988e-06, 2.45834468e-05, ...,\n",
       "        4.07827463e-06, 2.49763809e-04, 1.17434414e-04]])"
      ]
     },
     "execution_count": 27,
     "metadata": {},
     "output_type": "execute_result"
    }
   ],
   "source": [
    "predictor.predict(scrape, process=False)"
   ]
  },
  {
   "cell_type": "code",
   "execution_count": 29,
   "metadata": {},
   "outputs": [],
   "source": [
    "version = \"0.0.1\"\n",
    "path = f'data/category_predictor.pkl'\n",
    "predictor.dump_model(path, version)\n",
    "predictor_pkl_test = CategoryPredictor(path)"
   ]
  },
  {
   "cell_type": "code",
   "execution_count": 30,
   "metadata": {},
   "outputs": [
    {
     "data": {
      "text/html": [
       "<div>\n",
       "<style scoped>\n",
       "    .dataframe tbody tr th:only-of-type {\n",
       "        vertical-align: middle;\n",
       "    }\n",
       "\n",
       "    .dataframe tbody tr th {\n",
       "        vertical-align: top;\n",
       "    }\n",
       "\n",
       "    .dataframe thead th {\n",
       "        text-align: right;\n",
       "    }\n",
       "</style>\n",
       "<table border=\"1\" class=\"dataframe\">\n",
       "  <thead>\n",
       "    <tr style=\"text-align: right;\">\n",
       "      <th></th>\n",
       "      <th>Pred 1</th>\n",
       "      <th>Conf 1</th>\n",
       "      <th>Pred 2</th>\n",
       "      <th>Conf 2</th>\n",
       "      <th>Pred 3</th>\n",
       "      <th>Conf 3</th>\n",
       "    </tr>\n",
       "  </thead>\n",
       "  <tbody>\n",
       "    <tr>\n",
       "      <th>0</th>\n",
       "      <td>Vegetables</td>\n",
       "      <td>0.995680</td>\n",
       "      <td>Sauces, Dips, Gravies and Condiments</td>\n",
       "      <td>0.003755</td>\n",
       "      <td>Snacks</td>\n",
       "      <td>0.000202</td>\n",
       "    </tr>\n",
       "    <tr>\n",
       "      <th>1</th>\n",
       "      <td>Dairy Products and Substitutes</td>\n",
       "      <td>0.997687</td>\n",
       "      <td>Snacks</td>\n",
       "      <td>0.000647</td>\n",
       "      <td>Combination Dishes</td>\n",
       "      <td>0.000503</td>\n",
       "    </tr>\n",
       "    <tr>\n",
       "      <th>2</th>\n",
       "      <td>Bakery Products</td>\n",
       "      <td>0.466409</td>\n",
       "      <td>Snacks</td>\n",
       "      <td>0.351228</td>\n",
       "      <td>Sugars and Sweets</td>\n",
       "      <td>0.090207</td>\n",
       "    </tr>\n",
       "    <tr>\n",
       "      <th>3</th>\n",
       "      <td>Beverages</td>\n",
       "      <td>0.938057</td>\n",
       "      <td>Vegetables</td>\n",
       "      <td>0.029459</td>\n",
       "      <td>Miscellaneous</td>\n",
       "      <td>0.019011</td>\n",
       "    </tr>\n",
       "    <tr>\n",
       "      <th>4</th>\n",
       "      <td>Beverages</td>\n",
       "      <td>0.911429</td>\n",
       "      <td>Vegetables</td>\n",
       "      <td>0.057009</td>\n",
       "      <td>Miscellaneous</td>\n",
       "      <td>0.018471</td>\n",
       "    </tr>\n",
       "    <tr>\n",
       "      <th>...</th>\n",
       "      <td>...</td>\n",
       "      <td>...</td>\n",
       "      <td>...</td>\n",
       "      <td>...</td>\n",
       "      <td>...</td>\n",
       "      <td>...</td>\n",
       "    </tr>\n",
       "    <tr>\n",
       "      <th>24536</th>\n",
       "      <td>Beverages</td>\n",
       "      <td>0.621035</td>\n",
       "      <td>Vegetables</td>\n",
       "      <td>0.293843</td>\n",
       "      <td>Miscellaneous</td>\n",
       "      <td>0.066684</td>\n",
       "    </tr>\n",
       "    <tr>\n",
       "      <th>24537</th>\n",
       "      <td>Beverages</td>\n",
       "      <td>0.689391</td>\n",
       "      <td>Sauces, Dips, Gravies and Condiments</td>\n",
       "      <td>0.256784</td>\n",
       "      <td>Miscellaneous</td>\n",
       "      <td>0.017060</td>\n",
       "    </tr>\n",
       "    <tr>\n",
       "      <th>24538</th>\n",
       "      <td>Miscellaneous</td>\n",
       "      <td>0.998196</td>\n",
       "      <td>Fruit and Fruit Juices</td>\n",
       "      <td>0.000760</td>\n",
       "      <td>Vegetables</td>\n",
       "      <td>0.000559</td>\n",
       "    </tr>\n",
       "    <tr>\n",
       "      <th>24539</th>\n",
       "      <td>Miscellaneous</td>\n",
       "      <td>0.949046</td>\n",
       "      <td>Beverages</td>\n",
       "      <td>0.046948</td>\n",
       "      <td>Vegetables</td>\n",
       "      <td>0.001538</td>\n",
       "    </tr>\n",
       "    <tr>\n",
       "      <th>24540</th>\n",
       "      <td>Sauces, Dips, Gravies and Condiments</td>\n",
       "      <td>0.989512</td>\n",
       "      <td>Combination Dishes</td>\n",
       "      <td>0.006650</td>\n",
       "      <td>Fruit and Fruit Juices</td>\n",
       "      <td>0.001748</td>\n",
       "    </tr>\n",
       "  </tbody>\n",
       "</table>\n",
       "<p>24541 rows × 6 columns</p>\n",
       "</div>"
      ],
      "text/plain": [
       "                                     Pred 1    Conf 1  \\\n",
       "0                                Vegetables  0.995680   \n",
       "1            Dairy Products and Substitutes  0.997687   \n",
       "2                           Bakery Products  0.466409   \n",
       "3                                 Beverages  0.938057   \n",
       "4                                 Beverages  0.911429   \n",
       "...                                     ...       ...   \n",
       "24536                             Beverages  0.621035   \n",
       "24537                             Beverages  0.689391   \n",
       "24538                         Miscellaneous  0.998196   \n",
       "24539                         Miscellaneous  0.949046   \n",
       "24540  Sauces, Dips, Gravies and Condiments  0.989512   \n",
       "\n",
       "                                     Pred 2    Conf 2                  Pred 3  \\\n",
       "0      Sauces, Dips, Gravies and Condiments  0.003755                  Snacks   \n",
       "1                                    Snacks  0.000647      Combination Dishes   \n",
       "2                                    Snacks  0.351228       Sugars and Sweets   \n",
       "3                                Vegetables  0.029459           Miscellaneous   \n",
       "4                                Vegetables  0.057009           Miscellaneous   \n",
       "...                                     ...       ...                     ...   \n",
       "24536                            Vegetables  0.293843           Miscellaneous   \n",
       "24537  Sauces, Dips, Gravies and Condiments  0.256784           Miscellaneous   \n",
       "24538                Fruit and Fruit Juices  0.000760              Vegetables   \n",
       "24539                             Beverages  0.046948              Vegetables   \n",
       "24540                    Combination Dishes  0.006650  Fruit and Fruit Juices   \n",
       "\n",
       "         Conf 3  \n",
       "0      0.000202  \n",
       "1      0.000503  \n",
       "2      0.090207  \n",
       "3      0.019011  \n",
       "4      0.018471  \n",
       "...         ...  \n",
       "24536  0.066684  \n",
       "24537  0.017060  \n",
       "24538  0.000559  \n",
       "24539  0.001538  \n",
       "24540  0.001748  \n",
       "\n",
       "[24541 rows x 6 columns]"
      ]
     },
     "execution_count": 30,
     "metadata": {},
     "output_type": "execute_result"
    }
   ],
   "source": [
    "predictor_pkl_test.predict(scrape)"
   ]
  },
  {
   "cell_type": "code",
   "execution_count": 31,
   "metadata": {},
   "outputs": [
    {
     "data": {
      "text/plain": [
       "'0.0.1'"
      ]
     },
     "execution_count": 31,
     "metadata": {},
     "output_type": "execute_result"
    }
   ],
   "source": []
  }
 ],
 "metadata": {
  "kernelspec": {
   "display_name": "flaim",
   "language": "python",
   "name": "flaim"
  },
  "language_info": {
   "codemirror_mode": {
    "name": "ipython",
    "version": 3
   },
   "file_extension": ".py",
   "mimetype": "text/x-python",
   "name": "python",
   "nbconvert_exporter": "python",
   "pygments_lexer": "ipython3",
   "version": "3.7.3"
  }
 },
 "nbformat": 4,
 "nbformat_minor": 4
}
